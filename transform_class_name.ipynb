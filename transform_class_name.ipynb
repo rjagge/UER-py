{
 "cells": [
  {
   "cell_type": "code",
   "execution_count": 1,
   "metadata": {},
   "outputs": [],
   "source": [
    "import pandas as pd\n",
    "from sklearn.metrics import accuracy_score"
   ]
  },
  {
   "cell_type": "code",
   "execution_count": 70,
   "metadata": {},
   "outputs": [],
   "source": [
    "# read name dict\n",
    "dff = pd.read_csv('/home/user4/data/research/data/raw/dcp_name_class.csv')\n",
    "name_dict = {}\n",
    "for label, row in dff.iterrows():\n",
    "    name_dict[row['code']] = row['name']"
   ]
  },
  {
   "cell_type": "code",
   "execution_count": 75,
   "metadata": {},
   "outputs": [],
   "source": [
    "# transform 3rd name files\n",
    "file_dir = '/home/user4/data/research/data/'\n",
    "# read files\n",
    "df_dev = pd.read_csv(file_dir+'/cls_nsfc/dcp_code/dev.tsv',sep='\\t',header=None)\n",
    "df_test = pd.read_csv(file_dir+'/cls_nsfc/dcp_code/test.tsv',sep='\\t',header=None)\n",
    "df_train = pd.read_csv(file_dir+'/cls_nsfc/dcp_code/train.tsv',sep='\\t',header=None)\n",
    "\n",
    "# transfrom names\n",
    "df_dev[2] = df_dev[2].map(lambda x: name_dict[x] if x in name_dict else x)\n",
    "df_test[2] = df_test[2].map(lambda x: name_dict[x] if x in name_dict else x)\n",
    "df_train[2] = df_train[2].map(lambda x: name_dict[x] if x in name_dict else x)\n",
    "\n",
    "# save files\n",
    "df_dev.to_csv(file_dir+'/cls_nsfc/dcp_name_3rd/dev.tsv',sep='\\t',index=False,header=None)\n",
    "df_test.to_csv(file_dir+'/cls_nsfc/dcp_name_3rd/test.tsv',sep='\\t',index=False,header=None)\n",
    "df_train.to_csv(file_dir+'/cls_nsfc/dcp_name_3rd/train.tsv',sep='\\t',index=False,header=None)"
   ]
  },
  {
   "cell_type": "code",
   "execution_count": 64,
   "metadata": {},
   "outputs": [],
   "source": [
    "# tranform 123 name files\n",
    "def transform_123(text):\n",
    "    first_dcp = text[:1]\n",
    "    second_dcp = text[:3]\n",
    "    third_dcp = text\n",
    "    \n",
    "    first_dcp = name_dict[first_dcp] if first_dcp in name_dict else first_dcp\n",
    "    second_dcp = name_dict[second_dcp] if second_dcp in name_dict else second_dcp\n",
    "    third_dcp = name_dict[third_dcp] if third_dcp in name_dict else third_dcp\n",
    "    \n",
    "    return ','.join([first_dcp,second_dcp,third_dcp])"
   ]
  },
  {
   "cell_type": "code",
   "execution_count": 74,
   "metadata": {},
   "outputs": [],
   "source": [
    "\n",
    "file_dir = '/home/user4/data/research/data/'\n",
    "# read files\n",
    "df_dev = pd.read_csv(file_dir+'/cls_nsfc/dcp_code/dev.tsv',sep='\\t',header=None)\n",
    "df_test = pd.read_csv(file_dir+'/cls_nsfc/dcp_code/test.tsv',sep='\\t',header=None)\n",
    "df_train = pd.read_csv(file_dir+'/cls_nsfc/dcp_code/train.tsv',sep='\\t',header=None)\n",
    "\n",
    "# transfrom names\n",
    "df_dev[2] = df_dev[2].map(lambda x: transform_123(x))\n",
    "df_test[2] = df_test[2].map(lambda x: transform_123(x))\n",
    "df_train[2] = df_train[2].map(lambda x: transform_123(x))\n",
    "\n",
    "# save files\n",
    "df_dev.to_csv(file_dir+'/cls_nsfc/dcp_name_123/dev.tsv',sep='\\t',index=False,header=None)\n",
    "df_test.to_csv(file_dir+'/cls_nsfc/dcp_name_123/test.tsv',sep='\\t',index=False,header=None)\n",
    "df_train.to_csv(file_dir+'/cls_nsfc/dcp_name_123/train.tsv',sep='\\t',index=False,header=None)"
   ]
  },
  {
   "cell_type": "code",
   "execution_count": 72,
   "metadata": {},
   "outputs": [
    {
     "data": {
      "text/plain": [
       "array(['信息科学部,自动化,控制理论与技术', '工程与材料科学部,金属材料,金属材料使役行为与表面工程',\n",
       "       '工程与材料科学部,建筑与土木工程,结构工程', '信息科学部,计算机科学,信息安全', '地球科学部,环境地球科学,基础土壤学',\n",
       "       '化学科学部,化学测量学,化学与生物传感', '工程与材料科学部,电气科学与工程,电力系统与综合能源',\n",
       "       '化学科学部,环境化学,环境毒理与健康', '工程与材料科学部,工程热物理与能源利用,燃烧学',\n",
       "       '地球科学部,海洋科学,生物海洋学与海洋生物资源', '医学科学部,循环系统,心肌损伤、修复、重构和再生',\n",
       "       '地球科学部,大气科学,气候与气候系统', '数理科学部,基础物理,基础物理',\n",
       "       '信息科学部,计算机科学,计算机图像视频处理与多媒体技术', '工程与材料科学部,无机非金属材料,无机非金属半导体与信息功能材料',\n",
       "       '数理科学部,计算数学,微分方程数值解', '信息科学部,人工智能,模式识别与数据挖掘', '医学科学部,肿瘤学,肿瘤治疗抵抗',\n",
       "       '医学科学部,中西医结合,中西医结合临床基础', '工程与材料科学部,建筑与土木工程,工程防灾',\n",
       "       '地球科学部,地理科学,遥感科学', '医学科学部,肿瘤学,肿瘤细胞命运', '工程与材料科学部,机械设计与制造,机械设计学',\n",
       "       '化学科学部,合成化学,配位化学', '工程与材料科学部,机械设计与制造,成形制造',\n",
       "       '生命科学部,遗传学与生物信息学,基因表达及非编码序列调控', '医学科学部,肿瘤学,肿瘤发生',\n",
       "       '地球科学部,环境地球科学,工程地质环境与灾害', '地球科学部,环境地球科学,环境水科学',\n",
       "       '工程与材料科学部,机械设计与制造,加工制造', '化学科学部,催化与表界面化学,催化化学', '医学科学部,肿瘤学,肿瘤表观遗传',\n",
       "       '地球科学部,环境地球科学,环境地球化学', '工程与材料科学部,机械设计与制造,机械摩擦学与表面技术',\n",
       "       '生命科学部,植物保护学,植物病理学', '医学科学部,神经系统,脑血管结构、功能异常及相关疾病',\n",
       "       '信息科学部,电子学与信息系统,电磁场与波', '医学科学部,肿瘤学,肿瘤复发与转移',\n",
       "       '工程与材料科学部,机械设计与制造,机械动力学', '生命科学部,农学基础与作物学,作物基因组及遗传学',\n",
       "       '医学科学部,中医学,中医内科学', '信息科学部,计算机科学,计算机图形学与虚拟现实',\n",
       "       '工程与材料科学部,工程热物理与能源利用,海洋地质学与地球物理学', '工程与材料科学部,环境工程,城市污水处理与资源化'],\n",
       "      dtype=object)"
      ]
     },
     "execution_count": 72,
     "metadata": {},
     "output_type": "execute_result"
    }
   ],
   "source": [
    "df_train[2].unique()"
   ]
  },
  {
   "cell_type": "code",
   "execution_count": null,
   "metadata": {},
   "outputs": [],
   "source": [
    "'''\n",
    "Date: 2022-09-20 15:04:07\n",
    "LastEditors: Jagger\n",
    "Description: \n",
    "LastEditTime: 2022-10-02 00:43:30\n",
    "FilePath: /research/UER-py/test.ipynb\n",
    "'''\n"
   ]
  }
 ],
 "metadata": {
  "kernelspec": {
   "display_name": "Python 3.8.12 ('transformer')",
   "language": "python",
   "name": "python3"
  },
  "language_info": {
   "codemirror_mode": {
    "name": "ipython",
    "version": 3
   },
   "file_extension": ".py",
   "mimetype": "text/x-python",
   "name": "python",
   "nbconvert_exporter": "python",
   "pygments_lexer": "ipython3",
   "version": "3.8.12"
  },
  "orig_nbformat": 4,
  "vscode": {
   "interpreter": {
    "hash": "770ccce73f0b928be997026d75f469957a0f748dd31413a09d8fdb3371501771"
   }
  }
 },
 "nbformat": 4,
 "nbformat_minor": 2
}
